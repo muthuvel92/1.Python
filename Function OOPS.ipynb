{
 "cells": [
  {
   "cell_type": "code",
   "execution_count": 2,
   "id": "9085ff07-e777-4472-ad5b-51544aa3fc42",
   "metadata": {},
   "outputs": [],
   "source": [
    "lists = [23,54,67,16,39]\n",
    "def agegroup():\n",
    "    for n in lists:\n",
    "        if(n < 18):\n",
    "            print(\"Children\")\n",
    "        elif(n < 59):\n",
    "            print(\"Adult\")\n",
    "        else:\n",
    "            print(\"Senior\")\n",
    "        "
   ]
  },
  {
   "cell_type": "code",
   "execution_count": 4,
   "id": "36ed6737-7a61-4689-8419-fd580ed226ef",
   "metadata": {},
   "outputs": [
    {
     "name": "stdout",
     "output_type": "stream",
     "text": [
      "Adult\n",
      "Adult\n",
      "Senior\n",
      "Children\n",
      "Adult\n"
     ]
    }
   ],
   "source": [
    "agegroup()"
   ]
  },
  {
   "cell_type": "code",
   "execution_count": 6,
   "id": "3aaf1b47-5261-4ef8-9080-3ecacaedbe33",
   "metadata": {},
   "outputs": [],
   "source": [
    "def agegroup():\n",
    "    if(age < 18):\n",
    "            print(\"Children\")\n",
    "            cate = \"Children\"\n",
    "    elif(age < 59):\n",
    "            print(\"Adult\")\n",
    "            cate = \"Adult\"\n",
    "    else:\n",
    "            print(\"Senior\")\n",
    "            cate = \"Senior\"\n",
    "    return cate\n",
    "\n"
   ]
  },
  {
   "cell_type": "code",
   "execution_count": 8,
   "id": "84973052-ae16-4fe7-a1f7-b4eb82e0b6ee",
   "metadata": {},
   "outputs": [
    {
     "name": "stdin",
     "output_type": "stream",
     "text": [
      "Enter the age  25\n"
     ]
    },
    {
     "name": "stdout",
     "output_type": "stream",
     "text": [
      "Adult\n"
     ]
    }
   ],
   "source": [
    "age=int(input(\"Enter the age \"))\n",
    "agecate=agegroup()"
   ]
  },
  {
   "cell_type": "code",
   "execution_count": 13,
   "id": "9f2ef7f2-7c64-42ab-bc1c-c4cdfda6d305",
   "metadata": {},
   "outputs": [
    {
     "name": "stdin",
     "output_type": "stream",
     "text": [
      "Enter the age  16\n"
     ]
    },
    {
     "name": "stdout",
     "output_type": "stream",
     "text": [
      "Children\n"
     ]
    }
   ],
   "source": [
    "age=int(input(\"Enter the age \"))\n",
    "agecate=agegroup()"
   ]
  },
  {
   "cell_type": "code",
   "execution_count": null,
   "id": "980eecf0-e982-4125-b864-5dd92ff2cd84",
   "metadata": {},
   "outputs": [],
   "source": []
  }
 ],
 "metadata": {
  "kernelspec": {
   "display_name": "Python 3 (ipykernel)",
   "language": "python",
   "name": "python3"
  },
  "language_info": {
   "codemirror_mode": {
    "name": "ipython",
    "version": 3
   },
   "file_extension": ".py",
   "mimetype": "text/x-python",
   "name": "python",
   "nbconvert_exporter": "python",
   "pygments_lexer": "ipython3",
   "version": "3.12.4"
  }
 },
 "nbformat": 4,
 "nbformat_minor": 5
}

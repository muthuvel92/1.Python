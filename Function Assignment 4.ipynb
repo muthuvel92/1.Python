{
 "cells": [
  {
   "cell_type": "code",
   "execution_count": 2,
   "id": "597ca7cb-7058-4b9b-97cb-d20529682953",
   "metadata": {},
   "outputs": [],
   "source": [
    "def subfields():\n",
    "    print(\"Sub-fields in AI are:\")\n",
    "    print(\"Machine Learning\")\n",
    "    print(\"Neural Networks\")\n",
    "    print(\"Vision\")\n",
    "    print(\"robotics\")\n",
    "    print(\"Speech Processing\")\n",
    "    print(\"Natural Language Processing\")"
   ]
  },
  {
   "cell_type": "code",
   "execution_count": 4,
   "id": "325e4c56-adc6-4d02-bfb4-fe3331877e2e",
   "metadata": {},
   "outputs": [
    {
     "name": "stdout",
     "output_type": "stream",
     "text": [
      "Sub-fields in AI are:\n",
      "Machine Learning\n",
      "Neural Networks\n",
      "Vision\n",
      "robotics\n",
      "Speech Processing\n",
      "Natural Language Processing\n"
     ]
    }
   ],
   "source": [
    "subfields()"
   ]
  },
  {
   "cell_type": "code",
   "execution_count": 6,
   "id": "214b6342-2aa9-4c2a-868d-01bd348d1b9d",
   "metadata": {},
   "outputs": [],
   "source": [
    "def oddeven():\n",
    "    n=int(input(\"Enter the Num :\"))\n",
    "    if n % 2 ==0:\n",
    "        print(n,\"is Even\")\n",
    "    else:\n",
    "        print(n,\"is odd\")\n",
    "    "
   ]
  },
  {
   "cell_type": "code",
   "execution_count": 8,
   "id": "6acecf9f-194e-4619-af0c-1c5dc290069e",
   "metadata": {},
   "outputs": [
    {
     "name": "stdin",
     "output_type": "stream",
     "text": [
      "Enter the Num : 13\n"
     ]
    },
    {
     "name": "stdout",
     "output_type": "stream",
     "text": [
      "13 is odd\n"
     ]
    }
   ],
   "source": [
    "oddeven()"
   ]
  },
  {
   "cell_type": "code",
   "execution_count": 10,
   "id": "529d2ba1-56c8-477e-9396-2a802f483f99",
   "metadata": {},
   "outputs": [
    {
     "name": "stdin",
     "output_type": "stream",
     "text": [
      "Enter the Num : 24\n"
     ]
    },
    {
     "name": "stdout",
     "output_type": "stream",
     "text": [
      "24 is Even\n"
     ]
    }
   ],
   "source": [
    "oddeven()"
   ]
  },
  {
   "cell_type": "code",
   "execution_count": 12,
   "id": "4c45ea8f-2dcc-4503-b95b-979f93506768",
   "metadata": {},
   "outputs": [],
   "source": [
    "def marriage_elig():\n",
    "    gen=input(\"Enter your Gender :\")\n",
    "    age=int(input(\"Enter your age :\"))\n",
    "    if((gen==\"Male\") and (age>=21)):\n",
    "        print(\"Eligible\")\n",
    "    elif((gen==\"Female\") and (age>=18)):\n",
    "        print(\"Eligible\")\n",
    "    else:\n",
    "        print(\"Not Eligible\")\n",
    "    "
   ]
  },
  {
   "cell_type": "code",
   "execution_count": 14,
   "id": "12c7f49a-3d3e-49f0-bc87-5c7835aeb83e",
   "metadata": {},
   "outputs": [
    {
     "name": "stdin",
     "output_type": "stream",
     "text": [
      "Enter your Gender : Male\n",
      "Enter your age : 20\n"
     ]
    },
    {
     "name": "stdout",
     "output_type": "stream",
     "text": [
      "Not Eligible\n"
     ]
    }
   ],
   "source": [
    "marriage_elig()\n"
   ]
  },
  {
   "cell_type": "code",
   "execution_count": 16,
   "id": "6fad7100-d4fa-4708-92b0-e26a2161a29c",
   "metadata": {},
   "outputs": [
    {
     "name": "stdin",
     "output_type": "stream",
     "text": [
      "Enter your Gender : Male\n",
      "Enter your age : 21\n"
     ]
    },
    {
     "name": "stdout",
     "output_type": "stream",
     "text": [
      "Eligible\n"
     ]
    }
   ],
   "source": [
    "marriage_elig()"
   ]
  },
  {
   "cell_type": "code",
   "execution_count": 18,
   "id": "cce291f8-3f91-42e1-b920-e8f56d34f772",
   "metadata": {},
   "outputs": [
    {
     "name": "stdin",
     "output_type": "stream",
     "text": [
      "Enter your Gender : Female\n",
      "Enter your age : 18\n"
     ]
    },
    {
     "name": "stdout",
     "output_type": "stream",
     "text": [
      "Eligible\n"
     ]
    }
   ],
   "source": [
    "marriage_elig()"
   ]
  },
  {
   "cell_type": "code",
   "execution_count": 20,
   "id": "8d735941-a755-45db-b582-414d511833cf",
   "metadata": {},
   "outputs": [
    {
     "name": "stdin",
     "output_type": "stream",
     "text": [
      "Enter your Gender : Female\n",
      "Enter your age : 17\n"
     ]
    },
    {
     "name": "stdout",
     "output_type": "stream",
     "text": [
      "Not Eligible\n"
     ]
    }
   ],
   "source": [
    "marriage_elig()"
   ]
  },
  {
   "cell_type": "code",
   "execution_count": 22,
   "id": "f0636935-eec3-4907-9735-1f45e242a298",
   "metadata": {},
   "outputs": [],
   "source": [
    "def findperc():\n",
    "    a = float(input(\"Subject 1 :\"))\n",
    "    b = float(input(\"Subject 2 :\"))\n",
    "    c = float(input(\"Subject 3 :\"))\n",
    "    d = float(input(\"Subject 4 :\"))\n",
    "    e = float(input(\"Subject 5 :\"))\n",
    "    total = float(a+b+c+d+e)\n",
    "    per = float((total / 500)*100)\n",
    "    print(\"Total :\", total)\n",
    "    print(\"Percentage :\",per)"
   ]
  },
  {
   "cell_type": "code",
   "execution_count": 24,
   "id": "630cb1de-19f9-4197-a294-7a7d22147994",
   "metadata": {},
   "outputs": [
    {
     "name": "stdin",
     "output_type": "stream",
     "text": [
      "Subject 1 : 98\n",
      "Subject 2 : 87\n",
      "Subject 3 : 95\n",
      "Subject 4 : 95\n",
      "Subject 5 : 93\n"
     ]
    },
    {
     "name": "stdout",
     "output_type": "stream",
     "text": [
      "Total : 468.0\n",
      "Percentage : 93.60000000000001\n"
     ]
    }
   ],
   "source": [
    "findperc()"
   ]
  },
  {
   "cell_type": "code",
   "execution_count": 26,
   "id": "ac3bc1ad-95af-4481-a9df-35c7dd76a1f8",
   "metadata": {},
   "outputs": [],
   "source": [
    "def triangle():\n",
    "    a = float(input(\"Height :\"))\n",
    "    b = float(input(\"Breadth :\"))\n",
    "    area = (a*b)/2\n",
    "    print(\"Area of Triangle :\", area)\n",
    "    c = float(input(\"Height 1 :\"))\n",
    "    d = float(input(\"Height 2 :\"))\n",
    "    e = float(input(\"Breadth :\"))\n",
    "    perimeter = float(c+d+e)\n",
    "    print(\"Perimeter of Triangle :\",perimeter)"
   ]
  },
  {
   "cell_type": "code",
   "execution_count": 28,
   "id": "559c047b-916e-49f1-b667-08041c492f6a",
   "metadata": {},
   "outputs": [
    {
     "name": "stdin",
     "output_type": "stream",
     "text": [
      "Height : 32\n",
      "Breadth : 34\n"
     ]
    },
    {
     "name": "stdout",
     "output_type": "stream",
     "text": [
      "Area of Triangle : 544.0\n"
     ]
    },
    {
     "name": "stdin",
     "output_type": "stream",
     "text": [
      "Height 1 : 2\n",
      "Height 2 : 4\n",
      "Breadth : 4\n"
     ]
    },
    {
     "name": "stdout",
     "output_type": "stream",
     "text": [
      "Perimeter of Triangle : 10.0\n"
     ]
    }
   ],
   "source": [
    "triangle()"
   ]
  },
  {
   "cell_type": "code",
   "execution_count": 30,
   "id": "0a72579c-2b15-4ef5-a987-4bae49651b4b",
   "metadata": {},
   "outputs": [
    {
     "name": "stdin",
     "output_type": "stream",
     "text": [
      "Height : 32\n",
      "Breadth : 34\n"
     ]
    },
    {
     "name": "stdout",
     "output_type": "stream",
     "text": [
      "Area of Triangle : 544.0\n"
     ]
    },
    {
     "name": "stdin",
     "output_type": "stream",
     "text": [
      "Height 1 : 2\n",
      "Height 2 : 4\n",
      "Breadth : 45\n"
     ]
    },
    {
     "name": "stdout",
     "output_type": "stream",
     "text": [
      "Perimeter of Triangle : 51.0\n"
     ]
    }
   ],
   "source": [
    "triangle()"
   ]
  },
  {
   "cell_type": "code",
   "execution_count": null,
   "id": "74232394-0940-4a1a-86cb-45a970e43683",
   "metadata": {},
   "outputs": [],
   "source": []
  }
 ],
 "metadata": {
  "kernelspec": {
   "display_name": "Python 3 (ipykernel)",
   "language": "python",
   "name": "python3"
  },
  "language_info": {
   "codemirror_mode": {
    "name": "ipython",
    "version": 3
   },
   "file_extension": ".py",
   "mimetype": "text/x-python",
   "name": "python",
   "nbconvert_exporter": "python",
   "pygments_lexer": "ipython3",
   "version": "3.12.4"
  }
 },
 "nbformat": 4,
 "nbformat_minor": 5
}

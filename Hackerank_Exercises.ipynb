{
 "cells": [
  {
   "cell_type": "code",
   "execution_count": 4,
   "id": "befa50ff-844e-4cd5-ba77-f06a23ac3754",
   "metadata": {},
   "outputs": [
    {
     "ename": "SyntaxError",
     "evalue": "invalid syntax (244835992.py, line 1)",
     "output_type": "error",
     "traceback": [
      "\u001b[1;36m  Cell \u001b[1;32mIn[4], line 1\u001b[1;36m\u001b[0m\n\u001b[1;33m    Given an integer, , perform the following conditional actions:\u001b[0m\n\u001b[1;37m          ^\u001b[0m\n\u001b[1;31mSyntaxError\u001b[0m\u001b[1;31m:\u001b[0m invalid syntax\n"
     ]
    }
   ],
   "source": [
    "Given an integer, , perform the following conditional actions:\n",
    "\n",
    "If  is odd, print Weird\n",
    "If  is even and in the inclusive range of  to , print Not Weird\n",
    "If  is even and in the inclusive range of  to , print Weird\n",
    "If  is even and greater than , print Not Weird\n"
   ]
  },
  {
   "cell_type": "code",
   "execution_count": 10,
   "id": "8bd4b043-5a63-4640-b37e-388760412be3",
   "metadata": {},
   "outputs": [],
   "source": [
    "def weird():\n",
    "    n = int(input())\n",
    "    if ((n % 2 == 0) and (2 <= n <= 5)):\n",
    "        print(\"Not Weird\")\n",
    "    elif ((n % 2 == 0) and (6 <= n <= 20)):\n",
    "        print(\"Weird\")\n",
    "    elif ((n % 2 == 0) and (n > 20)):\n",
    "        print(\"Not Weird\")\n",
    "    else:\n",
    "        print(\"Weird\")"
   ]
  },
  {
   "cell_type": "code",
   "execution_count": 20,
   "id": "aa920763-8b33-4cb4-b9e6-6c41ea00fe2e",
   "metadata": {},
   "outputs": [
    {
     "name": "stdin",
     "output_type": "stream",
     "text": [
      " 5\n"
     ]
    },
    {
     "name": "stdout",
     "output_type": "stream",
     "text": [
      "Weird\n"
     ]
    }
   ],
   "source": [
    "weird()"
   ]
  },
  {
   "cell_type": "code",
   "execution_count": 22,
   "id": "b060d01a-6db9-45f8-b1bf-e96088923f56",
   "metadata": {},
   "outputs": [
    {
     "name": "stdin",
     "output_type": "stream",
     "text": [
      " 20\n"
     ]
    },
    {
     "name": "stdout",
     "output_type": "stream",
     "text": [
      "Weird\n"
     ]
    }
   ],
   "source": [
    "weird()"
   ]
  },
  {
   "cell_type": "code",
   "execution_count": 24,
   "id": "eaf5292f-39f0-47c3-b6b7-51d790603f71",
   "metadata": {},
   "outputs": [
    {
     "name": "stdin",
     "output_type": "stream",
     "text": [
      " 25\n"
     ]
    },
    {
     "name": "stdout",
     "output_type": "stream",
     "text": [
      "Weird\n"
     ]
    }
   ],
   "source": [
    "weird()"
   ]
  },
  {
   "cell_type": "code",
   "execution_count": 26,
   "id": "6c57201a-a2ec-4c39-898b-e32fe0f6e3dc",
   "metadata": {},
   "outputs": [
    {
     "name": "stdin",
     "output_type": "stream",
     "text": [
      " 28\n"
     ]
    },
    {
     "name": "stdout",
     "output_type": "stream",
     "text": [
      "Not Weird\n"
     ]
    }
   ],
   "source": [
    "weird()"
   ]
  },
  {
   "cell_type": "code",
   "execution_count": null,
   "id": "e63e10ea-c725-4cff-9c34-26bd945cf734",
   "metadata": {},
   "outputs": [],
   "source": [
    "The provided code stub reads two integers from STDIN,  and . Add code to print three lines where:\n",
    "\n",
    "The first line contains the sum of the two numbers.\n",
    "The second line contains the difference of the two numbers (first - second).\n",
    "The third line contains the product of the two numbers."
   ]
  },
  {
   "cell_type": "code",
   "execution_count": 30,
   "id": "0ea216e6-08ef-45f5-aebc-39e7fd414bff",
   "metadata": {},
   "outputs": [
    {
     "name": "stdin",
     "output_type": "stream",
     "text": [
      " 3\n",
      " 5\n"
     ]
    },
    {
     "name": "stdout",
     "output_type": "stream",
     "text": [
      "8\n",
      "-2\n",
      "15\n"
     ]
    }
   ],
   "source": [
    "a = int(input())\n",
    "b = int(input())\n",
    "sum = a + b\n",
    "sub = a - b\n",
    "mul = a * b\n",
    "print(sum)\n",
    "print(sub)\n",
    "print(mul)"
   ]
  },
  {
   "cell_type": "code",
   "execution_count": null,
   "id": "79b2022d-f7cf-4341-9636-2371543b7d3d",
   "metadata": {},
   "outputs": [],
   "source": [
    "The provided code stub reads two integers,  and , from STDIN.\n",
    "\n",
    "Add logic to print two lines. The first line should contain the result of integer division,  // . The second line should contain the result of float division,  / .\n",
    "\n",
    "No rounding or formatting is necessary.\n"
   ]
  },
  {
   "cell_type": "code",
   "execution_count": 32,
   "id": "ce2cb513-02f0-470b-85d4-6191f6ea18e8",
   "metadata": {},
   "outputs": [
    {
     "name": "stdin",
     "output_type": "stream",
     "text": [
      " 3\n",
      " 5\n"
     ]
    },
    {
     "name": "stdout",
     "output_type": "stream",
     "text": [
      "0\n",
      "0.6\n"
     ]
    }
   ],
   "source": [
    "a = float(input())\n",
    "b = float(input())\n",
    "div = a / b\n",
    "print(int(div))\n",
    "print(float(div))"
   ]
  },
  {
   "cell_type": "code",
   "execution_count": null,
   "id": "de219bb2-90a0-4ff5-a277-24b2c6f89d10",
   "metadata": {},
   "outputs": [],
   "source": []
  }
 ],
 "metadata": {
  "kernelspec": {
   "display_name": "Python 3 (ipykernel)",
   "language": "python",
   "name": "python3"
  },
  "language_info": {
   "codemirror_mode": {
    "name": "ipython",
    "version": 3
   },
   "file_extension": ".py",
   "mimetype": "text/x-python",
   "name": "python",
   "nbconvert_exporter": "python",
   "pygments_lexer": "ipython3",
   "version": "3.12.4"
  }
 },
 "nbformat": 4,
 "nbformat_minor": 5
}

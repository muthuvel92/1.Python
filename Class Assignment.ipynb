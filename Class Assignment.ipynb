{
 "cells": [
  {
   "cell_type": "code",
   "execution_count": 4,
   "id": "5a904477-f704-4ed1-bb57-b5c95821d2b1",
   "metadata": {},
   "outputs": [],
   "source": [
    "class subfieldsinAI():\n",
    "    def subfields():\n",
    "        print(\"Sub-fields in AI are:\")\n",
    "        print(\"Machine Learning\")\n",
    "        print(\"Neural Networks\")\n",
    "        print(\"Vision\")\n",
    "        print(\"robotics\")\n",
    "        print(\"Speech Processing\")\n",
    "        print(\"Natural Language Processing\")"
   ]
  },
  {
   "cell_type": "code",
   "execution_count": 6,
   "id": "0857729f-c1f5-480f-b6b6-ce74fbacd446",
   "metadata": {},
   "outputs": [
    {
     "name": "stdout",
     "output_type": "stream",
     "text": [
      "Sub-fields in AI are:\n",
      "Machine Learning\n",
      "Neural Networks\n",
      "Vision\n",
      "robotics\n",
      "Speech Processing\n",
      "Natural Language Processing\n"
     ]
    }
   ],
   "source": [
    "subfieldsinAI.subfields()"
   ]
  },
  {
   "cell_type": "code",
   "execution_count": 12,
   "id": "b9b4fd63-b442-4b0b-9913-2b4c11b47691",
   "metadata": {},
   "outputs": [],
   "source": [
    "class oddeven():\n",
    "    def oddeven():\n",
    "        n=int(input(\"Enter the Num :\"))\n",
    "        if n % 2 ==0:\n",
    "            print(n,\"is Even\")\n",
    "        else:\n",
    "            print(n,\"is odd\")"
   ]
  },
  {
   "cell_type": "code",
   "execution_count": 14,
   "id": "f741035f-55c3-4b71-80d6-43269c8177c3",
   "metadata": {},
   "outputs": [
    {
     "name": "stdin",
     "output_type": "stream",
     "text": [
      "Enter the Num : 3\n"
     ]
    },
    {
     "name": "stdout",
     "output_type": "stream",
     "text": [
      "3 is odd\n"
     ]
    }
   ],
   "source": [
    "oddeven.oddeven()"
   ]
  },
  {
   "cell_type": "code",
   "execution_count": 16,
   "id": "f7893869-01b3-4fb3-b31f-bf501d08f2f6",
   "metadata": {},
   "outputs": [
    {
     "name": "stdin",
     "output_type": "stream",
     "text": [
      "Enter the Num : 2\n"
     ]
    },
    {
     "name": "stdout",
     "output_type": "stream",
     "text": [
      "2 is Even\n"
     ]
    }
   ],
   "source": [
    "oddeven.oddeven()"
   ]
  },
  {
   "cell_type": "code",
   "execution_count": 18,
   "id": "22d0a8e4-4680-46c6-a02c-b6501a40badf",
   "metadata": {},
   "outputs": [],
   "source": [
    "class eligibilityformarriage():\n",
    "    def marriage_elig():\n",
    "        gen=input(\"Enter your Gender :\")\n",
    "        age=int(input(\"Enter your age :\"))\n",
    "        if((gen==\"Male\") and (age>=21)):\n",
    "            print(\"Eligible\")\n",
    "        elif((gen==\"Female\") and (age>=18)):\n",
    "            print(\"Eligible\")\n",
    "        else:\n",
    "            print(\"Not Eligible\")"
   ]
  },
  {
   "cell_type": "code",
   "execution_count": 26,
   "id": "39a58059-bdde-404c-b661-b1f099d65b5d",
   "metadata": {},
   "outputs": [
    {
     "name": "stdin",
     "output_type": "stream",
     "text": [
      "Enter your Gender : Male\n",
      "Enter your age : 18\n"
     ]
    },
    {
     "name": "stdout",
     "output_type": "stream",
     "text": [
      "Not Eligible\n"
     ]
    }
   ],
   "source": [
    "eligibilityformarriage.marriage_elig()"
   ]
  },
  {
   "cell_type": "code",
   "execution_count": 30,
   "id": "12c20604-8dfa-4818-9e16-cf0fb0b50e08",
   "metadata": {},
   "outputs": [],
   "source": [
    "class percentage():\n",
    "    def findperc():\n",
    "        a = float(input(\"Subject 1 :\"))\n",
    "        b = float(input(\"Subject 2 :\"))\n",
    "        c = float(input(\"Subject 3 :\"))\n",
    "        d = float(input(\"Subject 4 :\"))\n",
    "        e = float(input(\"Subject 5 :\"))\n",
    "        total = float(a+b+c+d+e)\n",
    "        per = float((total / 500)*100)\n",
    "        print(\"Total :\", total)\n",
    "        print(\"Percentage :\",per)"
   ]
  },
  {
   "cell_type": "code",
   "execution_count": 32,
   "id": "77d06722-571a-45a6-93e9-1d3ceb532737",
   "metadata": {},
   "outputs": [
    {
     "name": "stdin",
     "output_type": "stream",
     "text": [
      "Subject 1 : 58\n",
      "Subject 2 : 60\n",
      "Subject 3 : 62\n",
      "Subject 4 : 73\n",
      "Subject 5 : 80\n"
     ]
    },
    {
     "name": "stdout",
     "output_type": "stream",
     "text": [
      "Total : 333.0\n",
      "Percentage : 66.60000000000001\n"
     ]
    }
   ],
   "source": [
    "percentage.findperc()"
   ]
  },
  {
   "cell_type": "code",
   "execution_count": 34,
   "id": "fc1f58ee-0a51-4531-9752-07d6521386c3",
   "metadata": {},
   "outputs": [],
   "source": [
    "class triangle():\n",
    "    def triangle():\n",
    "        a = float(input(\"Height :\"))\n",
    "        b = float(input(\"Breadth :\"))\n",
    "        area = (a*b)/2\n",
    "        print(\"Area of Triangle :\", area)\n",
    "        c = float(input(\"Height 1 :\"))\n",
    "        d = float(input(\"Height 2 :\"))\n",
    "        e = float(input(\"Breadth :\"))\n",
    "        perimeter = float(c+d+e)\n",
    "        print(\"Perimeter of Triangle :\",perimeter)"
   ]
  },
  {
   "cell_type": "code",
   "execution_count": 36,
   "id": "03b9033b-0e33-43fd-b582-3d61ac8e5c66",
   "metadata": {},
   "outputs": [
    {
     "name": "stdin",
     "output_type": "stream",
     "text": [
      "Height : 5\n",
      "Breadth : 2\n"
     ]
    },
    {
     "name": "stdout",
     "output_type": "stream",
     "text": [
      "Area of Triangle : 5.0\n"
     ]
    },
    {
     "name": "stdin",
     "output_type": "stream",
     "text": [
      "Height 1 : 5\n",
      "Height 2 : 2\n",
      "Breadth : 10\n"
     ]
    },
    {
     "name": "stdout",
     "output_type": "stream",
     "text": [
      "Perimeter of Triangle : 17.0\n"
     ]
    }
   ],
   "source": [
    "triangle.triangle()"
   ]
  },
  {
   "cell_type": "code",
   "execution_count": null,
   "id": "dab7ec6f-9bfe-4864-a9e6-2ddd0af0dcb3",
   "metadata": {},
   "outputs": [],
   "source": []
  }
 ],
 "metadata": {
  "kernelspec": {
   "display_name": "Python 3 (ipykernel)",
   "language": "python",
   "name": "python3"
  },
  "language_info": {
   "codemirror_mode": {
    "name": "ipython",
    "version": 3
   },
   "file_extension": ".py",
   "mimetype": "text/x-python",
   "name": "python",
   "nbconvert_exporter": "python",
   "pygments_lexer": "ipython3",
   "version": "3.12.4"
  }
 },
 "nbformat": 4,
 "nbformat_minor": 5
}

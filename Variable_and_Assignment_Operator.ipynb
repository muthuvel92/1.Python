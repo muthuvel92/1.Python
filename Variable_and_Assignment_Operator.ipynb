{
 "cells": [
  {
   "cell_type": "code",
   "execution_count": 2,
   "id": "bc8cf988-c25d-41e8-8f8c-410b22803775",
   "metadata": {},
   "outputs": [
    {
     "name": "stdout",
     "output_type": "stream",
     "text": [
      "Hope AI\n"
     ]
    }
   ],
   "source": [
    "print(\"Hope AI\")\n"
   ]
  },
  {
   "cell_type": "code",
   "execution_count": 4,
   "id": "6d1b1675-8c03-488c-b4ae-1ef2dcf8f2ef",
   "metadata": {},
   "outputs": [
    {
     "name": "stdin",
     "output_type": "stream",
     "text": [
      "Enter your institute name? : HOPE AI\n"
     ]
    },
    {
     "name": "stdout",
     "output_type": "stream",
     "text": [
      "HOPE AI\n"
     ]
    }
   ],
   "source": [
    "name=input(\"Enter your institute name? :\")\n",
    "print(name)"
   ]
  },
  {
   "cell_type": "code",
   "execution_count": 6,
   "id": "ddaeef24-0a02-435a-ace2-13df42d0cfc7",
   "metadata": {},
   "outputs": [
    {
     "name": "stdin",
     "output_type": "stream",
     "text": [
      "Enter your name : Raj\n",
      "Enter your age : 15\n",
      "Enter your school name : Guru School\n",
      "Enter your Degree : B.E.CSE\n"
     ]
    }
   ],
   "source": [
    "name=input(\"Enter your name :\")\n",
    "age=int(input(\"Enter your age :\"))\n",
    "school=input(\"Enter your school name :\")\n",
    "deg=input(\"Enter your Degree :\")\n"
   ]
  },
  {
   "cell_type": "code",
   "execution_count": 8,
   "id": "db5cd51f-8463-45c7-895d-8e2ec68bbfd1",
   "metadata": {},
   "outputs": [
    {
     "name": "stdin",
     "output_type": "stream",
     "text": [
      "Enter your Institute name : HOPE AI\n"
     ]
    }
   ],
   "source": [
    "name=input(\"Enter your Institute name :\")"
   ]
  },
  {
   "cell_type": "code",
   "execution_count": 10,
   "id": "9538fad1-ae15-4250-94cc-77a15f134d2b",
   "metadata": {},
   "outputs": [
    {
     "name": "stdin",
     "output_type": "stream",
     "text": [
      "a= 43\n",
      "b= 34\n"
     ]
    },
    {
     "name": "stdout",
     "output_type": "stream",
     "text": [
      "add= 77\n"
     ]
    }
   ],
   "source": [
    "a=int(input(\"a=\"))\n",
    "b=int(input(\"b=\"))\n",
    "add=a+b\n",
    "print(\"add=\",add)"
   ]
  },
  {
   "cell_type": "code",
   "execution_count": 12,
   "id": "ca69ec04-47c5-4fb0-8722-6648196ea378",
   "metadata": {},
   "outputs": [
    {
     "name": "stdin",
     "output_type": "stream",
     "text": [
      "a= 43\n",
      "b= 34\n"
     ]
    },
    {
     "name": "stdout",
     "output_type": "stream",
     "text": [
      "sub= 9\n"
     ]
    }
   ],
   "source": [
    "a=int(input(\"a=\"))\n",
    "b=int(input(\"b=\"))\n",
    "sub=a-b\n",
    "print(\"sub=\",sub)\n"
   ]
  },
  {
   "cell_type": "code",
   "execution_count": 14,
   "id": "0c9a0e43-007f-42cc-aefe-ceaa03d4aad7",
   "metadata": {},
   "outputs": [
    {
     "name": "stdin",
     "output_type": "stream",
     "text": [
      "a= 63\n",
      "b= 97\n"
     ]
    },
    {
     "name": "stdout",
     "output_type": "stream",
     "text": [
      "Mul = 6111\n"
     ]
    }
   ],
   "source": [
    "a=int(input(\"a=\"))\n",
    "b=int(input(\"b=\"))\n",
    "mul=a*b\n",
    "print(\"Mul =\",mul)"
   ]
  },
  {
   "cell_type": "code",
   "execution_count": 16,
   "id": "cd0dc650-f3bb-4be5-84f6-d6bb9ac1f2a3",
   "metadata": {},
   "outputs": [
    {
     "name": "stdin",
     "output_type": "stream",
     "text": [
      "a= 76\n",
      "b= 31\n"
     ]
    },
    {
     "name": "stdout",
     "output_type": "stream",
     "text": [
      "Float Div = 2.4516129032258065\n"
     ]
    }
   ],
   "source": [
    "a=float(input(\"a=\"))\n",
    "b=float(input(\"b=\"))\n",
    "div=a/b\n",
    "print(\"Float Div =\",div)\n"
   ]
  },
  {
   "cell_type": "code",
   "execution_count": 18,
   "id": "3a5c9cc5-3a57-49a6-9e0c-10496c1fafbe",
   "metadata": {},
   "outputs": [
    {
     "name": "stdin",
     "output_type": "stream",
     "text": [
      "a= 76\n",
      "b= 31\n"
     ]
    },
    {
     "name": "stdout",
     "output_type": "stream",
     "text": [
      "Floor Div = 2.0\n"
     ]
    }
   ],
   "source": [
    "a=float(input(\"a=\"))\n",
    "b=float(input(\"b=\"))\n",
    "div=a//b\n",
    "print(\"Floor Div =\",div)\n"
   ]
  },
  {
   "cell_type": "code",
   "execution_count": 20,
   "id": "e831ac93-1e77-4f24-8288-fb3653b71cd1",
   "metadata": {},
   "outputs": [
    {
     "name": "stdin",
     "output_type": "stream",
     "text": [
      "a= 76\n",
      "b= 31\n"
     ]
    },
    {
     "name": "stdout",
     "output_type": "stream",
     "text": [
      "Modulo = 14\n"
     ]
    }
   ],
   "source": [
    "a=int(input(\"a=\"))\n",
    "b=int(input(\"b=\"))\n",
    "mod=a%b\n",
    "print(\"Modulo =\",mod)\n"
   ]
  },
  {
   "cell_type": "code",
   "execution_count": 22,
   "id": "a42cb78c-c8b3-44f2-9cb2-1c411cbb35e1",
   "metadata": {},
   "outputs": [
    {
     "name": "stdin",
     "output_type": "stream",
     "text": [
      "a= 4\n",
      "b= 4\n"
     ]
    },
    {
     "name": "stdout",
     "output_type": "stream",
     "text": [
      "Power = 256\n"
     ]
    }
   ],
   "source": [
    "a=int(input(\"a=\"))\n",
    "b=int(input(\"b=\"))\n",
    "pow=a**b\n",
    "print(\"Power =\",pow)\n"
   ]
  },
  {
   "cell_type": "code",
   "execution_count": null,
   "id": "cf0f548a-1435-4aaf-94ba-e5549611a248",
   "metadata": {},
   "outputs": [],
   "source": []
  }
 ],
 "metadata": {
  "kernelspec": {
   "display_name": "Python 3 (ipykernel)",
   "language": "python",
   "name": "python3"
  },
  "language_info": {
   "codemirror_mode": {
    "name": "ipython",
    "version": 3
   },
   "file_extension": ".py",
   "mimetype": "text/x-python",
   "name": "python",
   "nbconvert_exporter": "python",
   "pygments_lexer": "ipython3",
   "version": "3.12.4"
  }
 },
 "nbformat": 4,
 "nbformat_minor": 5
}
